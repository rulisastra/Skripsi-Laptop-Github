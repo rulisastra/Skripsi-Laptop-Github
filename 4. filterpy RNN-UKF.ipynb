{
 "cells": [
  {
   "cell_type": "markdown",
   "metadata": {},
   "source": [
    "# filterpy"
   ]
  },
  {
   "cell_type": "code",
   "execution_count": 2,
   "metadata": {},
   "outputs": [
    {
     "name": "stdout",
     "output_type": "stream",
     "text": [
      "[[6154.9]\n",
      " [6082.1]\n",
      " [6256.6]\n",
      " ...\n",
      " [   6.8]\n",
      " [   6.4]\n",
      " [   6.8]]\n",
      "[[-0.6819397 ]\n",
      " [-0.68570364]\n",
      " [-0.6766815 ]\n",
      " ...\n",
      " [-0.99981385]\n",
      " [-0.99983454]\n",
      " [-0.99981385]]\n"
     ]
    }
   ],
   "source": [
    "import pandas as pd\n",
    "import numpy as np\n",
    "import matplotlib.pyplot as plt\n",
    "import time\n",
    "from numpy.linalg import inv\n",
    "\n",
    "#persiapan data\n",
    "data = pd.read_csv('data.csv',usecols=[1],\n",
    "                    engine='python',\n",
    "                    delimiter=',',\n",
    "                    decimal=\".\",\n",
    "                    thousands=',',\n",
    "                    header=None,\n",
    "                    names=['date','value'] )\n",
    "data = data.values\n",
    "data = data.astype('float32')\n",
    "print(data)\n",
    "\n",
    "#normalisasi duluan\n",
    "def normalize(data,scale):\n",
    "    normalized = []\n",
    "    for i in range(len(data)):\n",
    "       a = (min(scale))+((data[i]-min(data))*\n",
    "              max(scale)-min(scale))/(max(data)-min(data))\n",
    "       normalized.append(a)\n",
    "    return np.array(normalized)\n",
    "\n",
    "scale = (-1,1)\n",
    "normalized = normalize(data,scale)\n",
    "print(normalized)\n",
    "plt.show()\n",
    "\n",
    "\n",
    "def pisahData(data,a,b):\n",
    "     if((a+b)!=1):\n",
    "            print(\"pemisahan tidak valid\")\n",
    "     else:\n",
    "        train = []\n",
    "        test = []\n",
    "        train_size = int(len(normalized)*a)\n",
    "        train = normalized[0:train_size-1]\n",
    "        test = normalized[train_size-1:len(normalized)]\n",
    "     return np.array(train),np.array(test)\n",
    "\n",
    "train_data, test_data = pisahData(normalized, 0.7, 0.3)\n",
    "train_data = train_data.reshape(-1,1) #reshape data dengan range -1,1\n",
    "test_data = test_data.reshape(-1,1)\n",
    "\n",
    "#createwindowSize =3 untuk input\n",
    "def createDataset(data, windowSize):\n",
    "    dataX, dataY = [],[]\n",
    "    for i in range(len(data)-windowSize):\n",
    "        a = []\n",
    "        for j in range(i, i+windowSize):\n",
    "            a.append(data[j,0])\n",
    "        dataX.append(a)\n",
    "        dataY.append(data[i+windowSize,0])\n",
    "    return np.array(dataX), np.array(dataY)\n",
    "windowSize = 3\n",
    "trainX, trainY = createDataset(train_data,windowSize)\n",
    "testX, testY = createDataset(test_data, windowSize)\n",
    "\n",
    "#initialize neuron size\n",
    "batch_dim = trainX.shape[0]\n",
    "input_dim = windowSize\n",
    "hidden_dim = 6\n",
    "output_dim = 1\n",
    "\n",
    "np.random.seed(4)\n",
    "\n",
    "#fungsi aktivasi dan turunannya\n",
    "def tanh(x):\n",
    "    return (1-np.exp(-2*x))/(1+np.exp(-2*x))\n",
    "\n",
    "def dtanh(x):\n",
    "    return (1-tanh(x)**2)"
   ]
  },
  {
   "cell_type": "code",
   "execution_count": null,
   "metadata": {},
   "outputs": [],
   "source": []
  }
 ],
 "metadata": {
  "kernelspec": {
   "display_name": "Python 3",
   "language": "python",
   "name": "python3"
  },
  "language_info": {
   "codemirror_mode": {
    "name": "ipython",
    "version": 3
   },
   "file_extension": ".py",
   "mimetype": "text/x-python",
   "name": "python",
   "nbconvert_exporter": "python",
   "pygments_lexer": "ipython3",
   "version": "3.7.3"
  }
 },
 "nbformat": 4,
 "nbformat_minor": 2
}
